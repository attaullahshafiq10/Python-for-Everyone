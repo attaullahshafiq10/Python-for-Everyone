{
 "cells": [
  {
   "cell_type": "markdown",
   "metadata": {},
   "source": [
    "#### 1. Refer to the activity. In the Building_a_network.pkt, explore the network. What is the IP address of the FastEthernet0 interface of PC0?"
   ]
  },